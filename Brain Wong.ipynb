{
 "cells": [
  {
   "cell_type": "code",
   "execution_count": 397,
   "metadata": {
    "collapsed": true
   },
   "outputs": [],
   "source": [
    "import pandas as pd\n",
    "import numpy as np\n",
    "%matplotlib inline"
   ]
  },
  {
   "cell_type": "code",
   "execution_count": 760,
   "metadata": {
    "collapsed": true
   },
   "outputs": [],
   "source": [
    "brain_wong_train = pd.read_csv('./Train/Train.csv', index_col='ID')\n",
    "brain_wong_test = pd.read_csv('./Test/Test.csv', index_col='ID')"
   ]
  },
  {
   "cell_type": "code",
   "execution_count": 860,
   "metadata": {
    "collapsed": false
   },
   "outputs": [],
   "source": [
    "%run scripts/preprocess.py\n",
    "%run scripts/transform.py\n",
    "%run scripts/model.py"
   ]
  },
  {
   "cell_type": "code",
   "execution_count": 762,
   "metadata": {
    "collapsed": false
   },
   "outputs": [],
   "source": [
    "def f(x):\n",
    "    col_dict = {\n",
    "        'HXYB': 'urban',\n",
    "        'HXYC': 'urban',\n",
    "        'HXYD': 'urban',\n",
    "        'HXYE': 'urban',\n",
    "        'HXYF': 'suburban',\n",
    "        'HXFG': 'suburban',\n",
    "        'HXYH': 'suburban',\n",
    "        'HXYI': 'suburban',\n",
    "        'HXYJ': 'rural',\n",
    "        'HXYK': 'rural',\n",
    "        'HXYL': 'rural',\n",
    "        'HXYM': 'other',\n",
    "        'HXYN': 'other',\n",
    "        'HXYO': 'other',\n",
    "    }\n",
    "    \n",
    "    return col_dict[x]\n",
    "    \n",
    "brain_wong_train['Var8'] = brain_wong_train['Var8'].map(f)\n",
    "brain_wong_test['Var8'] = brain_wong_test['Var8'].map(f)"
   ]
  },
  {
   "cell_type": "code",
   "execution_count": 763,
   "metadata": {
    "collapsed": false
   },
   "outputs": [],
   "source": [
    "transform_train = Transform(brain_wong_train)\n",
    "transform_test = Transform(brain_wong_test)"
   ]
  },
  {
   "cell_type": "code",
   "execution_count": 764,
   "metadata": {
    "collapsed": true
   },
   "outputs": [],
   "source": [
    "brain_wong_train.columns = transform_train.lowercase_columns()\n",
    "brain_wong_test.columns = transform_test.lowercase_columns()"
   ]
  },
  {
   "cell_type": "code",
   "execution_count": 765,
   "metadata": {
    "collapsed": false
   },
   "outputs": [
    {
     "name": "stdout",
     "output_type": "stream",
     "text": [
      "['institute_country', 'secondary_subject', 'secondary_area']\n",
      "['institute_zip', 'institute_country', 'secondary_subject', 'secondary_area']\n"
     ]
    }
   ],
   "source": [
    "brain_wong_train = transform_train.fill_missing_values()\n",
    "brain_wong_test = transform_test.fill_missing_values()"
   ]
  },
  {
   "cell_type": "code",
   "execution_count": 766,
   "metadata": {
    "collapsed": false
   },
   "outputs": [],
   "source": [
    "preprocess = Preprocessing(brain_wong_train, brain_wong_test)"
   ]
  },
  {
   "cell_type": "code",
   "execution_count": 767,
   "metadata": {
    "collapsed": false
   },
   "outputs": [],
   "source": [
    "brain_wong_train, brain_wong_test = preprocess.fit_transform()"
   ]
  },
  {
   "cell_type": "code",
   "execution_count": null,
   "metadata": {
    "collapsed": true
   },
   "outputs": [],
   "source": []
  },
  {
   "cell_type": "code",
   "execution_count": 861,
   "metadata": {
    "collapsed": false
   },
   "outputs": [],
   "source": [
    "model = Model(brain_wong_train, brain_wong_test)"
   ]
  },
  {
   "cell_type": "code",
   "execution_count": 769,
   "metadata": {
    "collapsed": false
   },
   "outputs": [],
   "source": [
    "# model.cross_validation()"
   ]
  },
  {
   "cell_type": "code",
   "execution_count": 414,
   "metadata": {
    "collapsed": false
   },
   "outputs": [],
   "source": [
    "# model.test_scores"
   ]
  },
  {
   "cell_type": "code",
   "execution_count": 415,
   "metadata": {
    "collapsed": false
   },
   "outputs": [
    {
     "name": "stdout",
     "output_type": "stream",
     "text": [
      "[  1.14683347e+05   1.05441353e+05   4.89094953e+04   5.87461804e+04\n",
      "   1.96321351e+04   1.01217328e+05   1.56219395e+05   1.66497523e+04\n",
      "   2.59203868e+03   2.12057876e+03   1.48044843e+03   3.23196043e+03\n",
      "   1.52632934e+02   1.16339280e+04   3.74860232e+03   2.97284135e+03\n",
      "   2.93447254e+05   2.62122058e+04   6.63582972e+04   1.27058016e+04\n",
      "   5.78028722e+05   2.28326351e+05   7.35802944e+03   1.43128034e+05\n",
      "   1.02602288e+05]\n"
     ]
    },
    {
     "data": {
      "image/png": "[encoded data removed]",
      "text/plain": [
       "<matplotlib.figure.Figure at 0x1235a5f0>"
      ]
     },
     "metadata": {},
     "output_type": "display_data"
    }
   ],
   "source": [
    "model.feature_importance()"
   ]
  },
  {
   "cell_type": "code",
   "execution_count": null,
   "metadata": {
    "collapsed": true
   },
   "outputs": [],
   "source": []
  },
  {
   "cell_type": "code",
   "execution_count": 831,
   "metadata": {
    "collapsed": false
   },
   "outputs": [],
   "source": [
    "model.performance()"
   ]
  },
  {
   "cell_type": "code",
   "execution_count": 832,
   "metadata": {
    "collapsed": false
   },
   "outputs": [
    {
     "data": {
      "text/plain": [
       "206.21930080753802"
      ]
     },
     "execution_count": 832,
     "metadata": {},
     "output_type": "execute_result"
    }
   ],
   "source": [
    "model.training_score"
   ]
  },
  {
   "cell_type": "code",
   "execution_count": 833,
   "metadata": {
    "collapsed": false
   },
   "outputs": [
    {
     "data": {
      "text/plain": [
       "686.89713210884258"
      ]
     },
     "execution_count": 833,
     "metadata": {},
     "output_type": "execute_result"
    }
   ],
   "source": [
    "model.test_score"
   ]
  },
  {
   "cell_type": "code",
   "execution_count": null,
   "metadata": {
    "collapsed": true
   },
   "outputs": [],
   "source": []
  },
  {
   "cell_type": "code",
   "execution_count": 859,
   "metadata": {
    "collapsed": false
   },
   "outputs": [
    {
     "name": "stdout",
     "output_type": "stream",
     "text": [
      "GBR training score  483.588536007\n",
      "RF training score  202.173635355\n",
      "ETR training score  17.4955983879\n",
      "GBR test score  670.409764015\n",
      "Rf score  688.129760787\n",
      "ETR test score  697.545167427\n",
      "Correlation between predictions of these two models                  etr_test_score  gbr_test_score  rf_test_score\n",
      "etr_test_score        1.000000        0.643996       0.770332\n",
      "gbr_test_score        0.643996        1.000000       0.747484\n",
      "rf_test_score         0.770332        0.747484       1.000000\n"
     ]
    }
   ],
   "source": [
    "model.ensemble()"
   ]
  },
  {
   "cell_type": "code",
   "execution_count": 855,
   "metadata": {
    "collapsed": false
   },
   "outputs": [
    {
     "data": {
      "text/plain": [
       "334.60497896813689"
      ]
     },
     "execution_count": 855,
     "metadata": {},
     "output_type": "execute_result"
    }
   ],
   "source": [
    "model.training_score"
   ]
  },
  {
   "cell_type": "code",
   "execution_count": 856,
   "metadata": {
    "collapsed": false
   },
   "outputs": [
    {
     "data": {
      "text/plain": [
       "673.20835932844125"
      ]
     },
     "execution_count": 856,
     "metadata": {},
     "output_type": "execute_result"
    }
   ],
   "source": [
    "model.test_score"
   ]
  },
  {
   "cell_type": "code",
   "execution_count": null,
   "metadata": {
    "collapsed": true
   },
   "outputs": [],
   "source": []
  },
  {
   "cell_type": "code",
   "execution_count": null,
   "metadata": {
    "collapsed": false
   },
   "outputs": [],
   "source": [
    "predictions = model.make_predictions()"
   ]
  },
  {
   "cell_type": "code",
   "execution_count": 842,
   "metadata": {
    "collapsed": false
   },
   "outputs": [],
   "source": [
    "model.create_submission('gbr_rf_ensemble_2.csv', predictions)"
   ]
  },
  {
   "cell_type": "code",
   "execution_count": null,
   "metadata": {
    "collapsed": true
   },
   "outputs": [],
   "source": []
  }
 ],
 "metadata": {
  "kernelspec": {
   "display_name": "Python 2",
   "language": "python",
   "name": "python2"
  },
  "language_info": {
   "codemirror_mode": {
    "name": "ipython",
    "version": 2
   },
   "file_extension": ".py",
   "mimetype": "text/x-python",
   "name": "python",
   "nbconvert_exporter": "python",
   "pygments_lexer": "ipython2",
   "version": "2.7.6"
  }
 },
 "nbformat": 4,
 "nbformat_minor": 0
}
