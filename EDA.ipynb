{
 "cells": [
  {
   "cell_type": "code",
   "execution_count": 1,
   "metadata": {
    "collapsed": true
   },
   "outputs": [],
   "source": [
    "import numpy as np\n",
    "import pandas as pd\n",
    "import seaborn as sns\n",
    "import matplotlib.pyplot as plt\n",
    "%matplotlib inline"
   ]
  },
  {
   "cell_type": "code",
   "execution_count": 2,
   "metadata": {
    "collapsed": true
   },
   "outputs": [],
   "source": [
    "train = pd.read_csv('./Train/Train.csv', index_col='ID')\n",
    "test = pd.read_csv('./Test/Test.csv', index_col='ID')"
   ]
  },
  {
   "cell_type": "code",
   "execution_count": 3,
   "metadata": {
    "collapsed": false
   },
   "outputs": [
    {
     "data": {
      "text/plain": [
       "Index([u'institute_latitude', u'institute_longitude', u'Var4', u'institute_city', u'institute_state', u'institute_zip', u'Var8', u'institute_country', u'Var10', u'Var11', u'Var12', u'Var13', u'Var14', u'Var15', u'Instructor_Past_Performance', u'Instructor_Association_Industry_Expert', u'project_subject', u'subject_area', u'secondary_subject', u'secondary_area', u'Resource_Category', u'Resource_Sub_Category', u'Var23', u'Var24', u'Similar_Project_Valuation_other_institute', u'Project_Valuation'], dtype='object')"
      ]
     },
     "execution_count": 3,
     "metadata": {},
     "output_type": "execute_result"
    }
   ],
   "source": [
    "# list of all the columns\n",
    "train.columns"
   ]
  },
  {
   "cell_type": "code",
   "execution_count": 5,
   "metadata": {
    "collapsed": false
   },
   "outputs": [
    {
     "data": {
      "image/png": "[encoded data removed]",
      "text/plain": [
       "<matplotlib.figure.Figure at 0xf35a610>"
      ]
     },
     "metadata": {},
     "output_type": "display_data"
    }
   ],
   "source": [
    "# distribution of target variable\n",
    "plt.hist(train.Project_Valuation, bins=100);"
   ]
  },
  {
   "cell_type": "code",
   "execution_count": 6,
   "metadata": {
    "collapsed": false
   },
   "outputs": [
    {
     "data": {
      "text/plain": [
       "count     34397.000000\n",
       "mean        349.989825\n",
       "std        1451.778640\n",
       "min           0.000000\n",
       "25%           0.000000\n",
       "50%         231.000000\n",
       "75%         477.000000\n",
       "max      244778.000000\n",
       "Name: Project_Valuation, dtype: float64"
      ]
     },
     "execution_count": 6,
     "metadata": {},
     "output_type": "execute_result"
    }
   ],
   "source": [
    "# highly skewed distribution\n",
    "train.Project_Valuation.describe()"
   ]
  },
  {
   "cell_type": "code",
   "execution_count": 17,
   "metadata": {
    "collapsed": false
   },
   "outputs": [],
   "source": [
    "outliers = train[train.Project_Valuation > 1000]"
   ]
  },
  {
   "cell_type": "code",
   "execution_count": 18,
   "metadata": {
    "collapsed": false
   },
   "outputs": [
    {
     "data": {
      "text/plain": [
       "SA01    310\n",
       "SA04    299\n",
       "SA07    298\n",
       "SA06    294\n",
       "SA02    288\n",
       "SA05    279\n",
       "SA03    258\n",
       "dtype: int64"
      ]
     },
     "execution_count": 18,
     "metadata": {},
     "output_type": "execute_result"
    }
   ],
   "source": [
    "# lets see the distribution of various variables\n",
    "outliers.Var4.value_counts()"
   ]
  },
  {
   "cell_type": "code",
   "execution_count": 14,
   "metadata": {
    "collapsed": false
   },
   "outputs": [
    {
     "data": {
      "text/plain": [
       "SA06    4960\n",
       "SA03    4952\n",
       "SA02    4944\n",
       "SA07    4938\n",
       "SA05    4883\n",
       "SA01    4865\n",
       "SA04    4855\n",
       "dtype: int64"
      ]
     },
     "execution_count": 14,
     "metadata": {},
     "output_type": "execute_result"
    }
   ],
   "source": [
    "train.Var4.value_counts()"
   ]
  },
  {
   "cell_type": "code",
   "execution_count": null,
   "metadata": {
    "collapsed": true
   },
   "outputs": [],
   "source": [
    "# Note: Projects that receive very high valuation have var4 as SA04 "
   ]
  },
  {
   "cell_type": "code",
   "execution_count": 19,
   "metadata": {
    "collapsed": false
   },
   "outputs": [
    {
     "data": {
      "text/plain": [
       "N    1856\n",
       "Y     170\n",
       "dtype: int64"
      ]
     },
     "execution_count": 19,
     "metadata": {},
     "output_type": "execute_result"
    }
   ],
   "source": [
    "outliers.Instructor_Past_Performance.value_counts()"
   ]
  },
  {
   "cell_type": "code",
   "execution_count": 20,
   "metadata": {
    "collapsed": false
   },
   "outputs": [
    {
     "data": {
      "text/plain": [
       "N    31444\n",
       "Y     2953\n",
       "dtype: int64"
      ]
     },
     "execution_count": 20,
     "metadata": {},
     "output_type": "execute_result"
    }
   ],
   "source": [
    "train.Instructor_Past_Performance.value_counts()"
   ]
  },
  {
   "cell_type": "code",
   "execution_count": 21,
   "metadata": {
    "collapsed": false
   },
   "outputs": [
    {
     "data": {
      "text/plain": [
       "Literacy                 435\n",
       "Literature & Writing     147\n",
       "Applied Sciences         144\n",
       "Mathematics              144\n",
       "Other                    137\n",
       "Visual Arts              129\n",
       "Music                    117\n",
       "Special Needs             88\n",
       "Performing Arts           82\n",
       "Environmental Science     75\n",
       "History & Geography       69\n",
       "Health & Life Science     68\n",
       "Social Sciences           59\n",
       "Sports                    58\n",
       "Early Development         40\n",
       "Gym & Fitness             38\n",
       "Character Education       38\n",
       "ESL                       30\n",
       "Health & Wellness         27\n",
       "College & Career Prep     26\n",
       "Extracurricular           21\n",
       "Foreign Languages         15\n",
       "Civics & Government       15\n",
       "Parent Involvement        10\n",
       "Community Service          7\n",
       "Economics                  4\n",
       "Nutrition                  3\n",
       "dtype: int64"
      ]
     },
     "execution_count": 21,
     "metadata": {},
     "output_type": "execute_result"
    }
   ],
   "source": [
    "outliers.project_subject.value_counts()"
   ]
  },
  {
   "cell_type": "code",
   "execution_count": 22,
   "metadata": {
    "collapsed": false
   },
   "outputs": [
    {
     "data": {
      "text/plain": [
       "Literacy                 9629\n",
       "Literature & Writing     3379\n",
       "Mathematics              3145\n",
       "Other                    2197\n",
       "Visual Arts              1907\n",
       "Special Needs            1704\n",
       "Applied Sciences         1687\n",
       "Environmental Science    1186\n",
       "History & Geography      1161\n",
       "Health & Life Science    1045\n",
       "Music                    1018\n",
       "Early Development         969\n",
       "Social Sciences           940\n",
       "ESL                       739\n",
       "Character Education       618\n",
       "Performing Arts           583\n",
       "Gym & Fitness             524\n",
       "Extracurricular           326\n",
       "Sports                    318\n",
       "Health & Wellness         299\n",
       "Foreign Languages         239\n",
       "College & Career Prep     238\n",
       "Parent Involvement        180\n",
       "Civics & Government       150\n",
       "Community Service         124\n",
       "Nutrition                  50\n",
       "Economics                  42\n",
       "dtype: int64"
      ]
     },
     "execution_count": 22,
     "metadata": {},
     "output_type": "execute_result"
    }
   ],
   "source": [
    "train.project_subject.value_counts()"
   ]
  },
  {
   "cell_type": "code",
   "execution_count": 23,
   "metadata": {
    "collapsed": false
   },
   "outputs": [
    {
     "data": {
      "text/plain": [
       "Literacy & Language    627\n",
       "Math & Science         431\n",
       "Music & The Arts       328\n",
       "Applied Learning       279\n",
       "History & Civics       147\n",
       "Health & Sports        126\n",
       "Special Needs           88\n",
       "dtype: int64"
      ]
     },
     "execution_count": 23,
     "metadata": {},
     "output_type": "execute_result"
    }
   ],
   "source": [
    "outliers.subject_area.value_counts()"
   ]
  },
  {
   "cell_type": "code",
   "execution_count": 24,
   "metadata": {
    "collapsed": false
   },
   "outputs": [
    {
     "data": {
      "text/plain": [
       "Literacy & Language    13986\n",
       "Math & Science          7063\n",
       "Applied Learning        4652\n",
       "Music & The Arts        3508\n",
       "History & Civics        2293\n",
       "Special Needs           1704\n",
       "Health & Sports         1191\n",
       "dtype: int64"
      ]
     },
     "execution_count": 24,
     "metadata": {},
     "output_type": "execute_result"
    }
   ],
   "source": [
    "train.subject_area.value_counts()"
   ]
  },
  {
   "cell_type": "code",
   "execution_count": 27,
   "metadata": {
    "collapsed": false
   },
   "outputs": [
    {
     "data": {
      "text/plain": [
       "N    1889\n",
       "Y     137\n",
       "dtype: int64"
      ]
     },
     "execution_count": 27,
     "metadata": {},
     "output_type": "execute_result"
    }
   ],
   "source": [
    "outliers.Instructor_Association_Industry_Expert.value_counts()"
   ]
  },
  {
   "cell_type": "code",
   "execution_count": 28,
   "metadata": {
    "collapsed": false
   },
   "outputs": [
    {
     "data": {
      "text/plain": [
       "N    32581\n",
       "Y     1816\n",
       "dtype: int64"
      ]
     },
     "execution_count": 28,
     "metadata": {},
     "output_type": "execute_result"
    }
   ],
   "source": [
    "train.Instructor_Association_Industry_Expert.value_counts()"
   ]
  },
  {
   "cell_type": "code",
   "execution_count": 29,
   "metadata": {
    "collapsed": false
   },
   "outputs": [
    {
     "data": {
      "text/plain": [
       "Technology    769\n",
       "Supplies      550\n",
       "Books         344\n",
       "Trips         182\n",
       "Other         150\n",
       "Visitors       31\n",
       "dtype: int64"
      ]
     },
     "execution_count": 29,
     "metadata": {},
     "output_type": "execute_result"
    }
   ],
   "source": [
    "outliers.Resource_Category.value_counts()"
   ]
  },
  {
   "cell_type": "code",
   "execution_count": 31,
   "metadata": {
    "collapsed": false
   },
   "outputs": [
    {
     "data": {
      "text/plain": [
       "Supplies      13666\n",
       "Technology     8355\n",
       "Books          7881\n",
       "Other          2894\n",
       "Trips          1354\n",
       "Visitors        247\n",
       "dtype: int64"
      ]
     },
     "execution_count": 31,
     "metadata": {},
     "output_type": "execute_result"
    }
   ],
   "source": [
    "train.Resource_Category.value_counts()"
   ]
  },
  {
   "cell_type": "code",
   "execution_count": 30,
   "metadata": {
    "collapsed": false
   },
   "outputs": [
    {
     "data": {
      "text/plain": [
       "E41     281\n",
       "N131    273\n",
       "F51     269\n",
       "M121    261\n",
       "O141    235\n",
       "I81     125\n",
       "H71     117\n",
       "G61     102\n",
       "Q161     70\n",
       "P151     60\n",
       "J91      54\n",
       "R171     52\n",
       "L111     49\n",
       "K101     47\n",
       "U201     13\n",
       "T191     10\n",
       "S181      8\n",
       "dtype: int64"
      ]
     },
     "execution_count": 30,
     "metadata": {},
     "output_type": "execute_result"
    }
   ],
   "source": [
    "outliers.Resource_Sub_Category.value_counts()"
   ]
  },
  {
   "cell_type": "code",
   "execution_count": 32,
   "metadata": {
    "collapsed": false
   },
   "outputs": [
    {
     "data": {
      "text/plain": [
       "F51     6847\n",
       "E41     6819\n",
       "M121    2821\n",
       "N131    2778\n",
       "O141    2756\n",
       "H71     2649\n",
       "I81     2619\n",
       "G61     2613\n",
       "J91     1006\n",
       "K101     948\n",
       "L111     940\n",
       "Q161     481\n",
       "R171     437\n",
       "P151     436\n",
       "U201      89\n",
       "T191      89\n",
       "S181      69\n",
       "dtype: int64"
      ]
     },
     "execution_count": 32,
     "metadata": {},
     "output_type": "execute_result"
    }
   ],
   "source": [
    "train.Resource_Sub_Category.value_counts()"
   ]
  },
  {
   "cell_type": "code",
   "execution_count": 34,
   "metadata": {
    "collapsed": false
   },
   "outputs": [
    {
     "data": {
      "image/png": "[encoded data removed]",
      "text/plain": [
       "<matplotlib.figure.Figure at 0xf769b30>"
      ]
     },
     "metadata": {},
     "output_type": "display_data"
    }
   ],
   "source": [
    "plt.hist(np.log1p(train.Project_Valuation), bins=20);"
   ]
  },
  {
   "cell_type": "code",
   "execution_count": null,
   "metadata": {
    "collapsed": true
   },
   "outputs": [],
   "source": []
  },
  {
   "cell_type": "code",
   "execution_count": null,
   "metadata": {
    "collapsed": true
   },
   "outputs": [],
   "source": []
  },
  {
   "cell_type": "code",
   "execution_count": null,
   "metadata": {
    "collapsed": true
   },
   "outputs": [],
   "source": []
  },
  {
   "cell_type": "code",
   "execution_count": null,
   "metadata": {
    "collapsed": true
   },
   "outputs": [],
   "source": []
  },
  {
   "cell_type": "code",
   "execution_count": null,
   "metadata": {
    "collapsed": true
   },
   "outputs": [],
   "source": []
  },
  {
   "cell_type": "code",
   "execution_count": null,
   "metadata": {
    "collapsed": true
   },
   "outputs": [],
   "source": []
  },
  {
   "cell_type": "code",
   "execution_count": null,
   "metadata": {
    "collapsed": true
   },
   "outputs": [],
   "source": []
  },
  {
   "cell_type": "code",
   "execution_count": null,
   "metadata": {
    "collapsed": true
   },
   "outputs": [],
   "source": []
  },
  {
   "cell_type": "code",
   "execution_count": 35,
   "metadata": {
    "collapsed": true
   },
   "outputs": [],
   "source": [
    "predictions_100 = pd.read_csv('./submissions/gbr_1000.csv')"
   ]
  },
  {
   "cell_type": "code",
   "execution_count": 36,
   "metadata": {
    "collapsed": false
   },
   "outputs": [
    {
     "data": {
      "text/plain": [
       "Index([u'ID', u'Project_Valuation'], dtype='object')"
      ]
     },
     "execution_count": 36,
     "metadata": {},
     "output_type": "execute_result"
    }
   ],
   "source": [
    "predictions_100.columns"
   ]
  },
  {
   "cell_type": "code",
   "execution_count": 37,
   "metadata": {
    "collapsed": true
   },
   "outputs": [],
   "source": [
    "def f(z):\n",
    "    if z < 0:\n",
    "        return 0\n",
    "    else:\n",
    "        return z\n",
    "    \n",
    "predictions_100['Project_Valuation'] = predictions_100.Project_Valuation.map(f)"
   ]
  },
  {
   "cell_type": "code",
   "execution_count": 39,
   "metadata": {
    "collapsed": false
   },
   "outputs": [
    {
     "data": {
      "image/png": "[encoded data removed]",
      "text/plain": [
       "<matplotlib.figure.Figure at 0xfcd4870>"
      ]
     },
     "metadata": {},
     "output_type": "display_data"
    }
   ],
   "source": [
    "plt.hist(np.log1p(predictions_100.Project_Valuation), bins=100);"
   ]
  },
  {
   "cell_type": "code",
   "execution_count": 41,
   "metadata": {
    "collapsed": true
   },
   "outputs": [],
   "source": [
    "predictions_100.to_csv('./submissions/gbr_1000_modified.csv', index=False)"
   ]
  },
  {
   "cell_type": "code",
   "execution_count": 46,
   "metadata": {
    "collapsed": false
   },
   "outputs": [
    {
     "data": {
      "text/plain": [
       "Index([u'institute_latitude', u'institute_longitude', u'Var4', u'institute_city', u'institute_state', u'institute_zip', u'Var8', u'institute_country', u'Var10', u'Var11', u'Var12', u'Var13', u'Var14', u'Var15', u'Instructor_Past_Performance', u'Instructor_Association_Industry_Expert', u'project_subject', u'subject_area', u'secondary_subject', u'secondary_area', u'Resource_Category', u'Resource_Sub_Category', u'Var23', u'Var24', u'Similar_Project_Valuation_other_institute'], dtype='object')"
      ]
     },
     "execution_count": 46,
     "metadata": {},
     "output_type": "execute_result"
    }
   ],
   "source": [
    "train.columns[:-1]"
   ]
  },
  {
   "cell_type": "code",
   "execution_count": 48,
   "metadata": {
    "collapsed": false
   },
   "outputs": [
    {
     "data": {
      "text/plain": [
       "Index([u'institute_state', u'institute_country', u'Var10', u'Var11', u'Var12', u'Var13', u'Var14', u'Var15', u'Instructor_Past_Performance', u'Instructor_Association_Industry_Expert', u'secondary_area', u'Var24'], dtype='object')"
      ]
     },
     "execution_count": 48,
     "metadata": {},
     "output_type": "execute_result"
    }
   ],
   "source": [
    "train.columns[[4 ,7, 8, 9, 10, 11, 12, 13, 14, 15, 19, 23]]"
   ]
  },
  {
   "cell_type": "code",
   "execution_count": 50,
   "metadata": {
    "collapsed": false
   },
   "outputs": [
    {
     "data": {
      "text/plain": [
       "Supplies      13666\n",
       "Technology     8355\n",
       "Books          7881\n",
       "Other          2894\n",
       "Trips          1354\n",
       "Visitors        247\n",
       "dtype: int64"
      ]
     },
     "execution_count": 50,
     "metadata": {},
     "output_type": "execute_result"
    }
   ],
   "source": [
    "train.Resource_Category.value_counts()"
   ]
  },
  {
   "cell_type": "code",
   "execution_count": null,
   "metadata": {
    "collapsed": true
   },
   "outputs": [],
   "source": []
  },
  {
   "cell_type": "code",
   "execution_count": null,
   "metadata": {
    "collapsed": true
   },
   "outputs": [],
   "source": []
  },
  {
   "cell_type": "code",
   "execution_count": null,
   "metadata": {
    "collapsed": true
   },
   "outputs": [],
   "source": []
  },
  {
   "cell_type": "code",
   "execution_count": null,
   "metadata": {
    "collapsed": true
   },
   "outputs": [],
   "source": []
  }
 ],
 "metadata": {
  "kernelspec": {
   "display_name": "Python 2",
   "language": "python",
   "name": "python2"
  },
  "language_info": {
   "codemirror_mode": {
    "name": "ipython",
    "version": 2
   },
   "file_extension": ".py",
   "mimetype": "text/x-python",
   "name": "python",
   "nbconvert_exporter": "python",
   "pygments_lexer": "ipython2",
   "version": "2.7.6"
  }
 },
 "nbformat": 4,
 "nbformat_minor": 0
}
